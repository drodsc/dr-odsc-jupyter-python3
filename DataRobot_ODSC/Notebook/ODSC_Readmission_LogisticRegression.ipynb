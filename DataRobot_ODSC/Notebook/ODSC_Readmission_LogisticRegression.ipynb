{
 "cells": [
  {
   "cell_type": "code",
   "execution_count": 42,
   "metadata": {},
   "outputs": [],
   "source": [
    "# pylint: disable-all\n",
    "from sklearn.model_selection import train_test_split\n",
    "from sklearn.pipeline import Pipeline\n",
    "from sklearn.linear_model import LogisticRegression\n",
    "from sklearn.impute import SimpleImputer\n",
    "from sklearn.preprocessing import StandardScaler, OneHotEncoder\n",
    "from sklearn.compose import make_column_transformer\n",
    "from sklearn.feature_extraction.text import TfidfVectorizer\n",
    "\n",
    "import pickle\n",
    "import pandas as pd\n",
    "import numpy as np\n",
    "\n",
    "PATH_TO_DATAFRAME = (\n",
    "    '../Data/10k_diabetes_ODSC_Training.csv'\n",
    ")\n",
    "\n",
    "# Train/test split\n",
    "df = pd.read_csv(PATH_TO_DATAFRAME)\n",
    "y = df.pop('readmitted')\n",
    "X_train, X_test, y_train, y_test = train_test_split(df, y)"
   ]
  },
  {
   "cell_type": "code",
   "execution_count": 43,
   "metadata": {},
   "outputs": [
    {
     "name": "stderr",
     "output_type": "stream",
     "text": [
      "/usr/local/lib/python3.7/site-packages/sklearn/compose/_column_transformer.py:778: DeprecationWarning: `make_column_transformer` now expects (transformer, columns) as input tuples instead of (columns, transformer). This has been introduced in v0.20.1. `make_column_transformer` will stop accepting the deprecated (columns, transformer) order in v0.22.\n",
      "  warnings.warn(message, DeprecationWarning)\n",
      "/usr/local/lib/python3.7/site-packages/sklearn/linear_model/logistic.py:432: FutureWarning: Default solver will be changed to 'lbfgs' in 0.22. Specify a solver to silence this warning.\n",
      "  FutureWarning)\n"
     ]
    },
    {
     "data": {
      "text/plain": [
       "Pipeline(memory=None,\n",
       "         steps=[('Preprocessing',\n",
       "                 ColumnTransformer(n_jobs=None, remainder='drop',\n",
       "                                   sparse_threshold=0.3,\n",
       "                                   transformer_weights=None,\n",
       "                                   transformers=[('pipeline-1',\n",
       "                                                  Pipeline(memory=None,\n",
       "                                                           steps=[('Imputation',\n",
       "                                                                   SimpleImputer(add_indicator=False,\n",
       "                                                                                 copy=True,\n",
       "                                                                                 fill_value=None,\n",
       "                                                                                 missing_values=nan,\n",
       "                                                                                 strategy='mean',\n",
       "                                                                                 verbose=0)),\n",
       "                                                                  ('Scaling',\n",
       "                                                                   StandardScaler(copy=True...\n",
       "                                                   'A1Cresult', 'citoglipton',\n",
       "                                                   'tolazamide',\n",
       "                                                   'chlorpropamide', ...])],\n",
       "                                   verbose=False)),\n",
       "                ('Logistic Regression',\n",
       "                 LogisticRegression(C=1.0, class_weight=None, dual=False,\n",
       "                                    fit_intercept=True, intercept_scaling=1,\n",
       "                                    l1_ratio=None, max_iter=100,\n",
       "                                    multi_class='warn', n_jobs=None,\n",
       "                                    penalty='l2', random_state=None,\n",
       "                                    solver='warn', tol=0.0001, verbose=0,\n",
       "                                    warm_start=False))],\n",
       "         verbose=False)"
      ]
     },
     "execution_count": 43,
     "metadata": {},
     "output_type": "execute_result"
    }
   ],
   "source": [
    "numeric_features = list(X_train.select_dtypes(include=np.number).columns.values)\n",
    "text_features = ['diag_1_desc', 'diag_2_desc', 'diag_3_desc']\n",
    "categorical_features = list(set(X_train.columns) - set(numeric_features + text_features))\n",
    "\n",
    "\n",
    "# Set up preprocessing steps for each type of feature\n",
    "text_preprocessing = Pipeline([('TfIdf', TfidfVectorizer())])\n",
    "\n",
    "categorical_preprocessing = Pipeline(\n",
    "    [\n",
    "        ('Imputation', SimpleImputer(strategy='constant', fill_value='?')),\n",
    "        ('One Hot Encoding', OneHotEncoder(handle_unknown='ignore')),\n",
    "    ]\n",
    ")\n",
    "\n",
    "numeric_preprocessing = Pipeline(\n",
    "    [('Imputation', SimpleImputer(strategy='mean')), ('Scaling', StandardScaler())]\n",
    ")\n",
    "\n",
    "\n",
    "preprocessing = make_column_transformer(\n",
    "    (numeric_features, numeric_preprocessing),\n",
    "    (text_features[0], text_preprocessing),\n",
    "    (text_features[1], text_preprocessing),\n",
    "    (text_features[2], text_preprocessing),\n",
    "    (categorical_features, categorical_preprocessing),\n",
    ")\n",
    "\n",
    "pipeline = Pipeline(\n",
    "    [('Preprocessing', preprocessing), ('Logistic Regression', LogisticRegression())]\n",
    ")\n",
    "\n",
    "pipeline.fit(X_train, y_train)"
   ]
  },
  {
   "cell_type": "code",
   "execution_count": 44,
   "metadata": {},
   "outputs": [],
   "source": [
    "with open('../Flask_App/python_model/custom_model.pickle', 'wb') as picklefile:\n",
    "    pickle.dump(pipeline, picklefile)"
   ]
  }
 ],
 "metadata": {
  "kernelspec": {
   "display_name": "Python 3",
   "language": "python",
   "name": "python3"
  },
  "language_info": {
   "codemirror_mode": {
    "name": "ipython",
    "version": 3
   },
   "file_extension": ".py",
   "mimetype": "text/x-python",
   "name": "python",
   "nbconvert_exporter": "python",
   "pygments_lexer": "ipython3",
   "version": "3.7.5"
  }
 },
 "nbformat": 4,
 "nbformat_minor": 2
}
