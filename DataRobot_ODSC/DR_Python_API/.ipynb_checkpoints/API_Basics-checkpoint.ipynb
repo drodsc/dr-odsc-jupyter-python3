{
 "cells": [
  {
   "cell_type": "markdown",
   "metadata": {},
   "source": [
    "![title](media/DataRobot.png)"
   ]
  },
  {
   "cell_type": "markdown",
   "metadata": {},
   "source": [
    "### DataRobot provides R and Python package to access different functionalities in the API\n",
    "1 - Project   \n",
    "2 - Model    \n",
    "3 - Predict    \n",
    "4 - Partitioning      \n",
    "5 - Feature List\n",
    "\n",
    "Full documentation of the Python package can be found here: https://datarobot-public-api-client.readthedocs-hosted.com/en/v2.18.0/\n",
    "\n",
    "Full documentation of the R package can be found here: https://cran.r-project.org/web/packages/datarobot/index.html"
   ]
  },
  {
   "cell_type": "markdown",
   "metadata": {},
   "source": [
    "## Getting started\n",
    "You can install datarobot using pip from any computer with internet access!"
   ]
  },
  {
   "cell_type": "code",
   "execution_count": null,
   "metadata": {},
   "outputs": [],
   "source": [
    "!pip install datarobot"
   ]
  },
  {
   "cell_type": "markdown",
   "metadata": {},
   "source": [
    "### Loading the libraries"
   ]
  },
  {
   "cell_type": "code",
   "execution_count": 10,
   "metadata": {},
   "outputs": [],
   "source": [
    "import pandas as pd\n",
    "import datarobot as dr\n",
    "import matplotlib.pyplot as plt"
   ]
  },
  {
   "cell_type": "markdown",
   "metadata": {},
   "source": [
    "### Credentials\n",
    "To access the DataRobot API user need to connect to it. To make sure authorize users are accessing the DataRobot API user need to use their username, password or API token.\n",
    "You also need to ensure your \"API Access\" configuration is ON (please ask your administrator if not).\n",
    "\n",
    "To find your API Token, visit https://app.eu.datarobot.com/ , log in and follow the instructions below:"
   ]
  },
  {
   "cell_type": "markdown",
   "metadata": {},
   "source": [
    "![title](media/credentials_1.png)"
   ]
  },
  {
   "cell_type": "markdown",
   "metadata": {},
   "source": [
    "![title](media/credentials_2.png)"
   ]
  },
  {
   "cell_type": "markdown",
   "metadata": {},
   "source": [
    "![title](media/credentials_3.png)"
   ]
  },
  {
   "cell_type": "code",
   "execution_count": 2,
   "metadata": {},
   "outputs": [
    {
     "data": {
      "text/plain": [
       "<datarobot.rest.RESTClientObject at 0x11f406278>"
      ]
     },
     "execution_count": 2,
     "metadata": {},
     "output_type": "execute_result"
    }
   ],
   "source": [
    "endpoint = 'https://app.eu.datarobot.com/api/v2'\n",
    "# Put your API token here\n",
    "api_token = ''\n",
    "dr.Client(token=api_token, endpoint=endpoint)"
   ]
  },
  {
   "cell_type": "markdown",
   "metadata": {},
   "source": [
    "## Read the dataset"
   ]
  },
  {
   "cell_type": "code",
   "execution_count": 11,
   "metadata": {},
   "outputs": [],
   "source": [
    "diabetes_data = pd.read_csv('../Data/10k_diabetes_ODSC_Training.csv')"
   ]
  },
  {
   "cell_type": "code",
   "execution_count": 7,
   "metadata": {},
   "outputs": [
    {
     "data": {
      "text/html": [
       "<div>\n",
       "<style scoped>\n",
       "    .dataframe tbody tr th:only-of-type {\n",
       "        vertical-align: middle;\n",
       "    }\n",
       "\n",
       "    .dataframe tbody tr th {\n",
       "        vertical-align: top;\n",
       "    }\n",
       "\n",
       "    .dataframe thead th {\n",
       "        text-align: right;\n",
       "    }\n",
       "</style>\n",
       "<table border=\"1\" class=\"dataframe\">\n",
       "  <thead>\n",
       "    <tr style=\"text-align: right;\">\n",
       "      <th></th>\n",
       "      <th>race</th>\n",
       "      <th>gender</th>\n",
       "      <th>age</th>\n",
       "      <th>weight</th>\n",
       "      <th>admission_type_id</th>\n",
       "      <th>discharge_disposition_id</th>\n",
       "      <th>admission_source_id</th>\n",
       "      <th>time_in_hospital</th>\n",
       "      <th>payer_code</th>\n",
       "      <th>medical_specialty</th>\n",
       "      <th>...</th>\n",
       "      <th>glipizide.metformin</th>\n",
       "      <th>glimepiride.pioglitazone</th>\n",
       "      <th>metformin.rosiglitazone</th>\n",
       "      <th>metformin.pioglitazone</th>\n",
       "      <th>change</th>\n",
       "      <th>diabetesMed</th>\n",
       "      <th>diag_1_desc</th>\n",
       "      <th>diag_2_desc</th>\n",
       "      <th>diag_3_desc</th>\n",
       "      <th>readmitted</th>\n",
       "    </tr>\n",
       "  </thead>\n",
       "  <tbody>\n",
       "    <tr>\n",
       "      <th>0</th>\n",
       "      <td>Caucasian</td>\n",
       "      <td>Female</td>\n",
       "      <td>[50-60)</td>\n",
       "      <td>?</td>\n",
       "      <td>Elective</td>\n",
       "      <td>Discharged to home</td>\n",
       "      <td>Physician Referral</td>\n",
       "      <td>1</td>\n",
       "      <td>CP</td>\n",
       "      <td>Surgery-Neuro</td>\n",
       "      <td>...</td>\n",
       "      <td>No</td>\n",
       "      <td>No</td>\n",
       "      <td>No</td>\n",
       "      <td>No</td>\n",
       "      <td>No</td>\n",
       "      <td>No</td>\n",
       "      <td>Spinal stenosis in cervical region</td>\n",
       "      <td>Spinal stenosis in cervical region</td>\n",
       "      <td>Effusion of joint, site unspecified</td>\n",
       "      <td>0</td>\n",
       "    </tr>\n",
       "    <tr>\n",
       "      <th>1</th>\n",
       "      <td>Caucasian</td>\n",
       "      <td>Female</td>\n",
       "      <td>[20-30)</td>\n",
       "      <td>[50-75)</td>\n",
       "      <td>Urgent</td>\n",
       "      <td>Discharged to home</td>\n",
       "      <td>Physician Referral</td>\n",
       "      <td>2</td>\n",
       "      <td>UN</td>\n",
       "      <td>?</td>\n",
       "      <td>...</td>\n",
       "      <td>No</td>\n",
       "      <td>No</td>\n",
       "      <td>No</td>\n",
       "      <td>No</td>\n",
       "      <td>No</td>\n",
       "      <td>No</td>\n",
       "      <td>First-degree perineal laceration, unspecified ...</td>\n",
       "      <td>Diabetes mellitus of mother, complicating preg...</td>\n",
       "      <td>Sideroblastic anemia</td>\n",
       "      <td>0</td>\n",
       "    </tr>\n",
       "    <tr>\n",
       "      <th>2</th>\n",
       "      <td>Caucasian</td>\n",
       "      <td>Male</td>\n",
       "      <td>[80-90)</td>\n",
       "      <td>?</td>\n",
       "      <td>Not Available</td>\n",
       "      <td>Discharged/transferred to home with home healt...</td>\n",
       "      <td>NaN</td>\n",
       "      <td>7</td>\n",
       "      <td>MC</td>\n",
       "      <td>Family/GeneralPractice</td>\n",
       "      <td>...</td>\n",
       "      <td>No</td>\n",
       "      <td>No</td>\n",
       "      <td>No</td>\n",
       "      <td>No</td>\n",
       "      <td>No</td>\n",
       "      <td>Yes</td>\n",
       "      <td>Pneumococcal pneumonia [Streptococcus pneumoni...</td>\n",
       "      <td>Congestive heart failure, unspecified</td>\n",
       "      <td>Hyperosmolality and/or hypernatremia</td>\n",
       "      <td>1</td>\n",
       "    </tr>\n",
       "    <tr>\n",
       "      <th>3</th>\n",
       "      <td>AfricanAmerican</td>\n",
       "      <td>Female</td>\n",
       "      <td>[50-60)</td>\n",
       "      <td>?</td>\n",
       "      <td>Emergency</td>\n",
       "      <td>Discharged to home</td>\n",
       "      <td>Transfer from another health care facility</td>\n",
       "      <td>4</td>\n",
       "      <td>UN</td>\n",
       "      <td>?</td>\n",
       "      <td>...</td>\n",
       "      <td>No</td>\n",
       "      <td>No</td>\n",
       "      <td>No</td>\n",
       "      <td>No</td>\n",
       "      <td>No</td>\n",
       "      <td>Yes</td>\n",
       "      <td>Cellulitis and abscess of face</td>\n",
       "      <td>Streptococcus infection in conditions classifi...</td>\n",
       "      <td>Diabetes mellitus without mention of complicat...</td>\n",
       "      <td>0</td>\n",
       "    </tr>\n",
       "    <tr>\n",
       "      <th>4</th>\n",
       "      <td>AfricanAmerican</td>\n",
       "      <td>Female</td>\n",
       "      <td>[50-60)</td>\n",
       "      <td>?</td>\n",
       "      <td>Emergency</td>\n",
       "      <td>Discharged to home</td>\n",
       "      <td>Emergency Room</td>\n",
       "      <td>5</td>\n",
       "      <td>?</td>\n",
       "      <td>Psychiatry</td>\n",
       "      <td>...</td>\n",
       "      <td>No</td>\n",
       "      <td>No</td>\n",
       "      <td>No</td>\n",
       "      <td>No</td>\n",
       "      <td>Ch</td>\n",
       "      <td>Yes</td>\n",
       "      <td>Bipolar I disorder, single manic episode, unsp...</td>\n",
       "      <td>Diabetes mellitus without mention of complicat...</td>\n",
       "      <td>Depressive type psychosis</td>\n",
       "      <td>0</td>\n",
       "    </tr>\n",
       "  </tbody>\n",
       "</table>\n",
       "<p>5 rows × 51 columns</p>\n",
       "</div>"
      ],
      "text/plain": [
       "              race  gender      age   weight admission_type_id  \\\n",
       "0        Caucasian  Female  [50-60)        ?          Elective   \n",
       "1        Caucasian  Female  [20-30)  [50-75)            Urgent   \n",
       "2        Caucasian    Male  [80-90)        ?     Not Available   \n",
       "3  AfricanAmerican  Female  [50-60)        ?         Emergency   \n",
       "4  AfricanAmerican  Female  [50-60)        ?         Emergency   \n",
       "\n",
       "                            discharge_disposition_id  \\\n",
       "0                                 Discharged to home   \n",
       "1                                 Discharged to home   \n",
       "2  Discharged/transferred to home with home healt...   \n",
       "3                                 Discharged to home   \n",
       "4                                 Discharged to home   \n",
       "\n",
       "                          admission_source_id  time_in_hospital payer_code  \\\n",
       "0                          Physician Referral                 1         CP   \n",
       "1                          Physician Referral                 2         UN   \n",
       "2                                         NaN                 7         MC   \n",
       "3  Transfer from another health care facility                 4         UN   \n",
       "4                              Emergency Room                 5          ?   \n",
       "\n",
       "        medical_specialty     ...      glipizide.metformin  \\\n",
       "0           Surgery-Neuro     ...                       No   \n",
       "1                       ?     ...                       No   \n",
       "2  Family/GeneralPractice     ...                       No   \n",
       "3                       ?     ...                       No   \n",
       "4              Psychiatry     ...                       No   \n",
       "\n",
       "   glimepiride.pioglitazone  metformin.rosiglitazone  metformin.pioglitazone  \\\n",
       "0                        No                       No                      No   \n",
       "1                        No                       No                      No   \n",
       "2                        No                       No                      No   \n",
       "3                        No                       No                      No   \n",
       "4                        No                       No                      No   \n",
       "\n",
       "   change  diabetesMed                                        diag_1_desc  \\\n",
       "0      No           No                 Spinal stenosis in cervical region   \n",
       "1      No           No  First-degree perineal laceration, unspecified ...   \n",
       "2      No          Yes  Pneumococcal pneumonia [Streptococcus pneumoni...   \n",
       "3      No          Yes                     Cellulitis and abscess of face   \n",
       "4      Ch          Yes  Bipolar I disorder, single manic episode, unsp...   \n",
       "\n",
       "                                         diag_2_desc  \\\n",
       "0                 Spinal stenosis in cervical region   \n",
       "1  Diabetes mellitus of mother, complicating preg...   \n",
       "2              Congestive heart failure, unspecified   \n",
       "3  Streptococcus infection in conditions classifi...   \n",
       "4  Diabetes mellitus without mention of complicat...   \n",
       "\n",
       "                                         diag_3_desc  readmitted  \n",
       "0                Effusion of joint, site unspecified           0  \n",
       "1                               Sideroblastic anemia           0  \n",
       "2               Hyperosmolality and/or hypernatremia           1  \n",
       "3  Diabetes mellitus without mention of complicat...           0  \n",
       "4                          Depressive type psychosis           0  \n",
       "\n",
       "[5 rows x 51 columns]"
      ]
     },
     "execution_count": 7,
     "metadata": {},
     "output_type": "execute_result"
    }
   ],
   "source": [
    "diabetes_data.head(5)"
   ]
  },
  {
   "cell_type": "markdown",
   "metadata": {},
   "source": [
    "### Start a DataRobot project!"
   ]
  },
  {
   "cell_type": "code",
   "execution_count": 5,
   "metadata": {},
   "outputs": [
    {
     "name": "stdout",
     "output_type": "stream",
     "text": [
      "5dd1d5426d62471bca659763 Diabetes Model\n"
     ]
    }
   ],
   "source": [
    "project = dr.Project.start(diabetes_data,                #Pandas dataframe with data. Could also pass the folder path\n",
    "                           project_name='Diabetes Model',#Name of the project\n",
    "                           target='readmitted',          #Target of the project\n",
    "                           metric = 'LogLoss',           #Optimization metric (Default value)\n",
    "                           worker_count = -1,            #Amount of workers to use. -1 means every worker available\n",
    "                           autopilot_on=True)            #Run on autopilot  (Default value)\n",
    "\n",
    "print(project.id, project.project_name)"
   ]
  },
  {
   "cell_type": "markdown",
   "metadata": {},
   "source": [
    "### Interacting with autopilot"
   ]
  },
  {
   "cell_type": "code",
   "execution_count": 6,
   "metadata": {},
   "outputs": [
    {
     "data": {
      "text/plain": [
       "True"
      ]
     },
     "execution_count": 6,
     "metadata": {},
     "output_type": "execute_result"
    }
   ],
   "source": [
    "project.pause_autopilot() #Pausing autopilot"
   ]
  },
  {
   "cell_type": "code",
   "execution_count": 7,
   "metadata": {},
   "outputs": [
    {
     "data": {
      "text/plain": [
       "True"
      ]
     },
     "execution_count": 7,
     "metadata": {},
     "output_type": "execute_result"
    }
   ],
   "source": [
    "project.unpause_autopilot() #Unpausing autopilot"
   ]
  },
  {
   "cell_type": "code",
   "execution_count": null,
   "metadata": {},
   "outputs": [],
   "source": [
    "#Wait till autopilot is complete - Note this will \n",
    "#make notebook unresponsive till autopilot is complete\n",
    "project.wait_for_autopilot()"
   ]
  },
  {
   "cell_type": "markdown",
   "metadata": {},
   "source": [
    "### Where to find the project ID?\n",
    "![title](media/model_id.png)"
   ]
  },
  {
   "cell_type": "markdown",
   "metadata": {},
   "source": [
    "### What if I don't want to use my browser"
   ]
  },
  {
   "cell_type": "code",
   "execution_count": 9,
   "metadata": {},
   "outputs": [
    {
     "name": "stdout",
     "output_type": "stream",
     "text": [
      "[Project(Series_['Athletic Clothing', 'Bathing Suits', 'Lawn and Garden', 'Sports Equipment']), Project(Diabetes Model), Project(Series_['Bluetooth and Wireless Speakers', 'Camera, Photo, and Video', 'Cell Phones and Accessories', 'Computer Parts and Components', 'Computers and Tablets', 'Electronics', 'Headphones', 'TV and Video', 'Toys and Games', 'Video Games']), Project(Motorcycle_insurance_claims.csv), Project(lending club), Project(Diabetes Model Finished)]\n"
     ]
    }
   ],
   "source": [
    "print(dr.Project.list())"
   ]
  },
  {
   "cell_type": "code",
   "execution_count": 18,
   "metadata": {},
   "outputs": [
    {
     "name": "stdout",
     "output_type": "stream",
     "text": [
      "Project(Diabetes Model) 5dd16fbe435de51a560954d0\n",
      "Project(Diabetes API) 5dd16e337a1f0d19f059c0cf\n"
     ]
    }
   ],
   "source": [
    "for p in dr.Project.list():\n",
    "    print(p, p.id)"
   ]
  },
  {
   "cell_type": "markdown",
   "metadata": {},
   "source": [
    "### Interacting with the leaderboard"
   ]
  },
  {
   "cell_type": "code",
   "execution_count": 10,
   "metadata": {},
   "outputs": [
    {
     "data": {
      "text/plain": [
       "True"
      ]
     },
     "execution_count": 10,
     "metadata": {},
     "output_type": "execute_result"
    }
   ],
   "source": [
    "project.open_leaderboard_browser()"
   ]
  },
  {
   "cell_type": "code",
   "execution_count": null,
   "metadata": {},
   "outputs": [],
   "source": [
    "#  Set worker count higher. This will fail if you don't have 20 workers.\n",
    "project.set_worker_count(20)"
   ]
  },
  {
   "cell_type": "code",
   "execution_count": 12,
   "metadata": {
    "scrolled": true
   },
   "outputs": [],
   "source": [
    "#  More jobs will go in the queue in each stage of autopilot.\n",
    "#  This gets the currently inprogress and queued jobs\n",
    "project.get_model_jobs()"
   ]
  },
  {
   "cell_type": "markdown",
   "metadata": {},
   "source": [
    "### Pick another project"
   ]
  },
  {
   "cell_type": "code",
   "execution_count": 47,
   "metadata": {},
   "outputs": [],
   "source": [
    "project = dr.Project.get('5dd16fbe435de51a560954d0') # I choose a project that has already finished autopilot"
   ]
  },
  {
   "cell_type": "markdown",
   "metadata": {},
   "source": [
    "### Take a look at finished models"
   ]
  },
  {
   "cell_type": "code",
   "execution_count": 48,
   "metadata": {
    "scrolled": true
   },
   "outputs": [
    {
     "name": "stdout",
     "output_type": "stream",
     "text": [
      "[Model('Advanced AVG Blender'), Model('ENET Blender'), Model('eXtreme Gradient Boosted Trees Classifier with Early Stopping'), Model('eXtreme Gradient Boosted Trees Classifier with Early Stopping'), Model('ENET Blender'), Model('AVG Blender'), Model('Elastic-Net Classifier (mixing alpha=0.5 / Binomial Deviance) with Unsupervised Learning Features'), Model('eXtreme Gradient Boosted Trees Classifier with Early Stopping'), Model('Light Gradient Boosting on ElasticNet Predictions '), Model('Elastic-Net Classifier (mixing alpha=0.5 / Binomial Deviance)'), Model('Regularized Logistic Regression (L2)'), Model('eXtreme Gradient Boosted Trees Classifier with Early Stopping'), Model('eXtreme Gradient Boosted Trees Classifier with Early Stopping'), Model('Regularized Logistic Regression (L2)'), Model('Elastic-Net Classifier (L2 / Binomial Deviance)'), Model('Light Gradient Boosting on ElasticNet Predictions '), Model('Regularized Logistic Regression (L2)'), Model('Elastic-Net Classifier (mixing alpha=0.5 / Binomial Deviance)'), Model('Elastic-Net Classifier (mixing alpha=0.5 / Binomial Deviance) with Unsupervised Learning Features'), Model('Regularized Logistic Regression (L2)'), Model('eXtreme Gradient Boosted Trees Classifier with Early Stopping'), Model('eXtreme Gradient Boosted Trees Classifier with Early Stopping'), Model('Elastic-Net Classifier (L2 / Binomial Deviance)'), Model('Nystroem Kernel SVM Classifier'), Model('Regularized Logistic Regression (L2)'), Model('Elastic-Net Classifier (mixing alpha=0.5 / Binomial Deviance)'), Model('ExtraTrees Classifier (Gini)'), Model('RandomForest Classifier (Gini)'), Model('Gradient Boosted Greedy Trees Classifier with Early Stopping'), Model('eXtreme Gradient Boosted Trees Classifier with Early Stopping'), Model('Gradient Boosted Trees Classifier with Early Stopping'), Model('Elastic-Net Classifier (mixing alpha=0.5 / Binomial Deviance)'), Model('Light Gradient Boosting on ElasticNet Predictions '), Model('Nystroem Kernel SVM Classifier'), Model('Elastic-Net Classifier (mixing alpha=0.5 / Binomial Deviance) with Unsupervised Learning Features'), Model('Regularized Logistic Regression (L2)'), Model('eXtreme Gradient Boosted Trees Classifier with Early Stopping'), Model('RandomForest Classifier (Gini)'), Model('Gradient Boosted Trees Classifier with Early Stopping'), Model('eXtreme Gradient Boosted Trees Classifier with Early Stopping'), Model('ExtraTrees Classifier (Gini)'), Model('eXtreme Gradient Boosted Trees Classifier with Early Stopping'), Model('Elastic-Net Classifier (L2 / Binomial Deviance)'), Model('Regularized Logistic Regression (L2)'), Model('Elastic-Net Classifier (mixing alpha=0.5 / Binomial Deviance)'), Model('Regularized Logistic Regression (L2)'), Model('Gradient Boosted Greedy Trees Classifier with Early Stopping'), Model('Breiman and Cutler Random Forest Classifier'), Model('Light Gradient Boosted Trees Classifier with Early Stopping'), Model('RandomForest Classifier (Entropy)'), Model('Gradient Boosted Trees Classifier'), Model('eXtreme Gradient Boosted Trees Classifier with Early Stopping and Unsupervised Learning Features'), Model('Generalized Additive2 Model'), Model('eXtreme Gradient Boosted Trees Classifier with Early Stopping'), Model('TensorFlow Neural Network Classifier'), Model('Eureqa Generalized Additive Model Classifier (3000 Generations)'), Model('Elastic-Net Classifier (L2 / Binomial Deviance) with Binned numeric features'), Model('Auto-tuned K-Nearest Neighbors Classifier (Euclidean Distance)'), Model('Vowpal Wabbit Classifier'), Model('RuleFit Classifier'), Model('RandomForest Classifier (Gini)'), Model('Auto-tuned K-Nearest Neighbors Classifier (Euclidean Distance)'), Model('Auto-Tuned Word N-Gram Text Modeler using token occurrences - diag_1_desc'), Model('Auto-Tuned Word N-Gram Text Modeler using token occurrences - diag_1_desc'), Model('Auto-Tuned Word N-Gram Text Modeler using token occurrences - diag_3_desc'), Model('Auto-Tuned Word N-Gram Text Modeler using token occurrences - diag_1_desc'), Model('Auto-Tuned Word N-Gram Text Modeler using token occurrences - diag_2_desc'), Model('Auto-Tuned Word N-Gram Text Modeler using token occurrences - diag_2_desc'), Model('Auto-Tuned Word N-Gram Text Modeler using token occurrences - diag_3_desc'), Model('Auto-Tuned Word N-Gram Text Modeler using token occurrences - diag_1_desc'), Model('Auto-Tuned Word N-Gram Text Modeler using token occurrences - diag_3_desc'), Model('Majority Class Classifier'), Model('Auto-Tuned Word N-Gram Text Modeler using token occurrences - diag_2_desc'), Model('Gradient Boosted Trees Classifier'), Model('Auto-Tuned Word N-Gram Text Modeler using token occurrences - diag_2_desc'), Model('Auto-Tuned Word N-Gram Text Modeler using token occurrences - diag_3_desc'), Model('Naive Bayes combiner classifier'), Model('Logistic Regression'), Model('Elastic-Net Classifier (L2 / Binomial Deviance)'), Model('Decision Tree Classifier (Gini)')]\n"
     ]
    }
   ],
   "source": [
    "print(project.get_models())"
   ]
  },
  {
   "cell_type": "code",
   "execution_count": 53,
   "metadata": {},
   "outputs": [
    {
     "name": "stdout",
     "output_type": "stream",
     "text": [
      "Model('Elastic-Net Classifier (mixing alpha=0.5 / Binomial Deviance) with Unsupervised Learning Features')\n",
      "{'backtesting': None, 'holdout': None, 'backtestingScores': None, 'crossValidation': 0.6957199999999999, 'validation': 0.70352}\n",
      "{'backtesting': None, 'holdout': None, 'backtestingScores': None, 'crossValidation': 0.39144, 'validation': 0.40704}\n"
     ]
    }
   ],
   "source": [
    "#Pick a non-blender model\n",
    "best_model = project.get_models()[6]\n",
    "\n",
    "print(best_model)\n",
    "print(best_model.metrics['AUC'])\n",
    "print(best_model.metrics['Gini Norm'])"
   ]
  },
  {
   "cell_type": "code",
   "execution_count": 54,
   "metadata": {},
   "outputs": [
    {
     "data": {
      "image/png": "[encoded data removed]",
      "text/plain": [
       "<Figure size 432x288 with 1 Axes>"
      ]
     },
     "metadata": {
      "needs_background": "light"
     },
     "output_type": "display_data"
    }
   ],
   "source": [
    "#Visualize the ROC curve\n",
    "roc = best_model.get_roc_curve('crossValidation')\n",
    "roc_df = pd.DataFrame(roc.roc_points)\n",
    "\n",
    "plt.title('Receiver Operating Characteristic')\n",
    "plt.plot(roc_df['false_positive_rate'], roc_df['true_positive_rate'], 'b', label = 'AUC = %0.2f')\n",
    "plt.legend(loc = 'lower right')\n",
    "plt.plot([0, 1], [0, 1],'r--')\n",
    "plt.xlim([0, 1])\n",
    "plt.ylim([0, 1])\n",
    "plt.ylabel('True Positive Rate')\n",
    "plt.xlabel('False Positive Rate')\n",
    "plt.show()"
   ]
  },
  {
   "cell_type": "code",
   "execution_count": 55,
   "metadata": {},
   "outputs": [
    {
     "data": {
      "text/plain": [
       "'5dd1715b3773da0bb7bd38d9'"
      ]
     },
     "execution_count": 55,
     "metadata": {},
     "output_type": "execute_result"
    }
   ],
   "source": [
    "best_model.id"
   ]
  },
  {
   "cell_type": "markdown",
   "metadata": {},
   "source": [
    "### Creating a custom feature list"
   ]
  },
  {
   "cell_type": "code",
   "execution_count": 56,
   "metadata": {},
   "outputs": [
    {
     "data": {
      "text/plain": [
       "[Featurelist(Raw Features),\n",
       " Featurelist(Informative Features),\n",
       " Featurelist(Univariate Selections),\n",
       " Featurelist(DR Reduced Features M74),\n",
       " Featurelist(without_weight)]"
      ]
     },
     "execution_count": 56,
     "metadata": {},
     "output_type": "execute_result"
    }
   ],
   "source": [
    "feature_lists = project.get_featurelists()\n",
    "feature_lists"
   ]
  },
  {
   "cell_type": "code",
   "execution_count": 57,
   "metadata": {},
   "outputs": [],
   "source": [
    "inform_features = feature_lists[1]\n",
    "\n",
    "#Create a new feature list\n",
    "without_weight = list(set(inform_features.features) - {'weight'})\n",
    "\n",
    "try:\n",
    "    without_weight_fl = project.create_featurelist('without_weight', without_weight)\n",
    "except: #without_weight already exists\n",
    "    without_weight_f1 = feature_lists[4]"
   ]
  },
  {
   "cell_type": "markdown",
   "metadata": {},
   "source": [
    "### Retraining a model on the custom feature list"
   ]
  },
  {
   "cell_type": "code",
   "execution_count": 58,
   "metadata": {
    "scrolled": false
   },
   "outputs": [
    {
     "data": {
      "text/plain": [
       "'143'"
      ]
     },
     "execution_count": 58,
     "metadata": {},
     "output_type": "execute_result"
    }
   ],
   "source": [
    "#Retrain the best model using the custom feature list\n",
    "best_model.train(featurelist_id=without_weight_f1.id)"
   ]
  },
  {
   "cell_type": "markdown",
   "metadata": {},
   "source": [
    "### Which one is the best?"
   ]
  },
  {
   "cell_type": "code",
   "execution_count": 59,
   "metadata": {},
   "outputs": [
    {
     "data": {
      "text/plain": [
       "'466118b9615b48aa3e162994e8b475d5'"
      ]
     },
     "execution_count": 59,
     "metadata": {},
     "output_type": "execute_result"
    }
   ],
   "source": [
    "best_model.blueprint_id"
   ]
  },
  {
   "cell_type": "code",
   "execution_count": 60,
   "metadata": {},
   "outputs": [],
   "source": [
    "models_rerun = [model for model in project.get_models() \n",
    "                    if model.blueprint_id == best_model.blueprint_id and model.sample_pct > 63]"
   ]
  },
  {
   "cell_type": "code",
   "execution_count": 61,
   "metadata": {},
   "outputs": [
    {
     "data": {
      "text/plain": [
       "[Model('Elastic-Net Classifier (mixing alpha=0.5 / Binomial Deviance) with Unsupervised Learning Features'),\n",
       " Model('Elastic-Net Classifier (mixing alpha=0.5 / Binomial Deviance) with Unsupervised Learning Features')]"
      ]
     },
     "execution_count": 61,
     "metadata": {},
     "output_type": "execute_result"
    }
   ],
   "source": [
    "models_rerun"
   ]
  },
  {
   "cell_type": "code",
   "execution_count": 66,
   "metadata": {},
   "outputs": [
    {
     "name": "stderr",
     "output_type": "stream",
     "text": [
      "/Users/thodoris.petropoulos/anaconda3/lib/python3.7/site-packages/ipykernel_launcher.py:1: DataRobotDeprecationWarning: `featurelist` has been deprecated in `v2.3`, will be removed in `v3.0`. Use Model.featurelist_id instead\n",
      "  \"\"\"Entry point for launching an IPython kernel.\n"
     ]
    },
    {
     "data": {
      "text/plain": [
       "[['Informative Features', 0.70352], ['without_weight', 0.70203]]"
      ]
     },
     "execution_count": 66,
     "metadata": {},
     "output_type": "execute_result"
    }
   ],
   "source": [
    "accuracies = [[model.featurelist.name, model.metrics['AUC']['validation']] for model in models_rerun]\n",
    "accuracies"
   ]
  },
  {
   "cell_type": "markdown",
   "metadata": {},
   "source": [
    "### Train on 100% of Data"
   ]
  },
  {
   "cell_type": "code",
   "execution_count": null,
   "metadata": {},
   "outputs": [],
   "source": [
    "project.unlock_holdout()\n",
    "id_for_best_retrained_model = best_model.train(sample_pct=100)"
   ]
  },
  {
   "cell_type": "markdown",
   "metadata": {},
   "source": [
    "## Predictions\n",
    "There are 2 ways to generate predictions from any model using the DataRobot API:\n",
    "#### Modelling API\n",
    "You can use the modelling API if you use Python or R. There are multiple functions and objects to interact with it the same way as above.\n",
    "#### Prediction API\n",
    "Any project can be called with the Prediction API. This is a simple REST API. Click on a model in the UI, then \"Deploy Model\" and \"Activate now\". You'll have access to a Python code snippet to help you interact with it."
   ]
  },
  {
   "cell_type": "markdown",
   "metadata": {},
   "source": [
    "### Using the Modelling API"
   ]
  },
  {
   "cell_type": "code",
   "execution_count": 9,
   "metadata": {},
   "outputs": [],
   "source": [
    "test_df = pd.read_csv('../Data/10k_diabetes_ODSC_Prediction.csv') #Load testing data\n",
    "test_df.drop('readmitted', inplace=True, axis=1) #Dropping target column\n",
    "\n",
    "prediction_data = project.upload_dataset(test_df)\n",
    "predict_job = best_model.request_predictions(prediction_data.id)\n",
    "result = predict_job.get_result_when_complete()"
   ]
  },
  {
   "cell_type": "code",
   "execution_count": 71,
   "metadata": {},
   "outputs": [
    {
     "data": {
      "text/html": [
       "<div>\n",
       "<style scoped>\n",
       "    .dataframe tbody tr th:only-of-type {\n",
       "        vertical-align: middle;\n",
       "    }\n",
       "\n",
       "    .dataframe tbody tr th {\n",
       "        vertical-align: top;\n",
       "    }\n",
       "\n",
       "    .dataframe thead th {\n",
       "        text-align: right;\n",
       "    }\n",
       "</style>\n",
       "<table border=\"1\" class=\"dataframe\">\n",
       "  <thead>\n",
       "    <tr style=\"text-align: right;\">\n",
       "      <th></th>\n",
       "      <th>positive_probability</th>\n",
       "      <th>prediction</th>\n",
       "      <th>prediction_threshold</th>\n",
       "      <th>row_id</th>\n",
       "      <th>class_No</th>\n",
       "      <th>class_Yes</th>\n",
       "    </tr>\n",
       "  </thead>\n",
       "  <tbody>\n",
       "    <tr>\n",
       "      <th>0</th>\n",
       "      <td>0.297306</td>\n",
       "      <td>No</td>\n",
       "      <td>0.5</td>\n",
       "      <td>0</td>\n",
       "      <td>0.702694</td>\n",
       "      <td>0.297306</td>\n",
       "    </tr>\n",
       "    <tr>\n",
       "      <th>1</th>\n",
       "      <td>0.281131</td>\n",
       "      <td>No</td>\n",
       "      <td>0.5</td>\n",
       "      <td>1</td>\n",
       "      <td>0.718869</td>\n",
       "      <td>0.281131</td>\n",
       "    </tr>\n",
       "    <tr>\n",
       "      <th>2</th>\n",
       "      <td>0.440090</td>\n",
       "      <td>No</td>\n",
       "      <td>0.5</td>\n",
       "      <td>2</td>\n",
       "      <td>0.559910</td>\n",
       "      <td>0.440090</td>\n",
       "    </tr>\n",
       "    <tr>\n",
       "      <th>3</th>\n",
       "      <td>0.123262</td>\n",
       "      <td>No</td>\n",
       "      <td>0.5</td>\n",
       "      <td>3</td>\n",
       "      <td>0.876738</td>\n",
       "      <td>0.123262</td>\n",
       "    </tr>\n",
       "    <tr>\n",
       "      <th>4</th>\n",
       "      <td>0.252389</td>\n",
       "      <td>No</td>\n",
       "      <td>0.5</td>\n",
       "      <td>4</td>\n",
       "      <td>0.747611</td>\n",
       "      <td>0.252389</td>\n",
       "    </tr>\n",
       "  </tbody>\n",
       "</table>\n",
       "</div>"
      ],
      "text/plain": [
       "   positive_probability prediction  prediction_threshold  row_id  class_No  \\\n",
       "0              0.297306         No                   0.5       0  0.702694   \n",
       "1              0.281131         No                   0.5       1  0.718869   \n",
       "2              0.440090         No                   0.5       2  0.559910   \n",
       "3              0.123262         No                   0.5       3  0.876738   \n",
       "4              0.252389         No                   0.5       4  0.747611   \n",
       "\n",
       "   class_Yes  \n",
       "0   0.297306  \n",
       "1   0.281131  \n",
       "2   0.440090  \n",
       "3   0.123262  \n",
       "4   0.252389  "
      ]
     },
     "execution_count": 71,
     "metadata": {},
     "output_type": "execute_result"
    }
   ],
   "source": [
    "result.head()"
   ]
  },
  {
   "cell_type": "markdown",
   "metadata": {},
   "source": [
    "### Using the prediction API"
   ]
  },
  {
   "cell_type": "markdown",
   "metadata": {},
   "source": [
    "![title](media/prediction_api.png)"
   ]
  },
  {
   "cell_type": "markdown",
   "metadata": {
    "collapsed": true
   },
   "source": [
    "See demonstration."
   ]
  },
  {
   "cell_type": "markdown",
   "metadata": {},
   "source": [
    "### Batch scoring script\n",
    "If you're predicting on large amount of batch data, a single API call might not be efficient and you might want to split your data into multiple chunks before generating predictions.\n",
    "\n",
    "DataRobot provides a Python script to help you do it: https://pypi.python.org/pypi/datarobot_batch_scoring\n",
    "\n",
    "Note this is only available in Python 3."
   ]
  },
  {
   "cell_type": "code",
   "execution_count": null,
   "metadata": {},
   "outputs": [],
   "source": []
  }
 ],
 "metadata": {
  "hide_input": false,
  "kernelspec": {
   "display_name": "Python 3",
   "language": "python",
   "name": "python3"
  },
  "language_info": {
   "codemirror_mode": {
    "name": "ipython",
    "version": 3
   },
   "file_extension": ".py",
   "mimetype": "text/x-python",
   "name": "python",
   "nbconvert_exporter": "python",
   "pygments_lexer": "ipython3",
   "version": "3.7.3"
  }
 },
 "nbformat": 4,
 "nbformat_minor": 1
}
