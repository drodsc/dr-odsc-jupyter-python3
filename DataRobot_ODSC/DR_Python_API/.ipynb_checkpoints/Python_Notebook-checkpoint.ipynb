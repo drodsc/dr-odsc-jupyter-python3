{
 "cells": [
  {
   "cell_type": "markdown",
   "metadata": {},
   "source": [
    "![title](media/DataRobot.png)"
   ]
  },
  {
   "cell_type": "markdown",
   "metadata": {},
   "source": [
    "### DataRobot provides R and Python package to access different functionalities in the API\n",
    "1 - Project   \n",
    "2 - Model    \n",
    "3 - Predict    \n",
    "4 - Partitioning      \n",
    "5 - Feature List\n",
    "\n",
    "Full documentation of the Python package can be found here: https://datarobot-public-api-client.readthedocs-hosted.com/en/v2.18.0/\n",
    "\n",
    "Full documentation of the R package can be found here: https://cran.r-project.org/web/packages/datarobot/index.html"
   ]
  },
  {
   "cell_type": "markdown",
   "metadata": {},
   "source": [
    "## Getting started\n",
    "You can install datarobot using pip from any computer with internet access!"
   ]
  },
  {
   "cell_type": "code",
   "execution_count": null,
   "metadata": {},
   "outputs": [],
   "source": [
    "!pip install datarobot"
   ]
  },
  {
   "cell_type": "markdown",
   "metadata": {},
   "source": [
    "### Loading the libraries"
   ]
  },
  {
   "cell_type": "code",
   "execution_count": 1,
   "metadata": {},
   "outputs": [],
   "source": [
    "import pandas as pd\n",
    "import datarobot as dr"
   ]
  },
  {
   "cell_type": "markdown",
   "metadata": {},
   "source": [
    "### Credentials\n",
    "To access the DataRobot API user need to connect to it. To make sure authorize users are accessing the DataRobot API user need to use their username, password or API token.\n",
    "You also need to ensure your \"API Access\" configuration is ON (please ask your administrator if not).\n",
    "\n",
    "To find your API Token, visit https://app.eu.datarobot.com/ , log in and follow the instructions below:"
   ]
  },
  {
   "cell_type": "markdown",
   "metadata": {},
   "source": [
    "![title](media/credentials_1.png)"
   ]
  },
  {
   "cell_type": "markdown",
   "metadata": {},
   "source": [
    "![title](credentials_2.png)"
   ]
  },
  {
   "cell_type": "markdown",
   "metadata": {},
   "source": [
    "![title](media/credentials_3.png)"
   ]
  },
  {
   "cell_type": "code",
   "execution_count": 2,
   "metadata": {},
   "outputs": [
    {
     "data": {
      "text/plain": [
       "<datarobot.rest.RESTClientObject at 0x1159fd0b8>"
      ]
     },
     "execution_count": 2,
     "metadata": {},
     "output_type": "execute_result"
    }
   ],
   "source": [
    "endpoint = 'https://app.eu.datarobot.com/api/v2'\n",
    "# Put your API token here\n",
    "api_token = 'NWRiMGI2ZGRhMmE1YzUzNWM4YmNiYWUxOnVCenYzQm1JVUdxeUV4KzZXbHlVMnQxR21XRCtkTU95YVA3bnVodUVkNlE9'\n",
    "dr.Client(token=api_token, endpoint=endpoint)"
   ]
  },
  {
   "cell_type": "markdown",
   "metadata": {},
   "source": [
    "## Read the dataset"
   ]
  },
  {
   "cell_type": "code",
   "execution_count": 40,
   "metadata": {},
   "outputs": [],
   "source": [
    "diabetes_data = pd.read_csv('data/Diabetes_train.csv', encoding='ISO-8859-1')"
   ]
  },
  {
   "cell_type": "code",
   "execution_count": 4,
   "metadata": {},
   "outputs": [
    {
     "data": {
      "text/html": [
       "<div>\n",
       "<style scoped>\n",
       "    .dataframe tbody tr th:only-of-type {\n",
       "        vertical-align: middle;\n",
       "    }\n",
       "\n",
       "    .dataframe tbody tr th {\n",
       "        vertical-align: top;\n",
       "    }\n",
       "\n",
       "    .dataframe thead th {\n",
       "        text-align: right;\n",
       "    }\n",
       "</style>\n",
       "<table border=\"1\" class=\"dataframe\">\n",
       "  <thead>\n",
       "    <tr style=\"text-align: right;\">\n",
       "      <th></th>\n",
       "      <th>readmitted</th>\n",
       "      <th>race</th>\n",
       "      <th>gender</th>\n",
       "      <th>age</th>\n",
       "      <th>weight</th>\n",
       "      <th>admission_type_id</th>\n",
       "      <th>discharge_disposition_id</th>\n",
       "      <th>admission_source_id</th>\n",
       "      <th>time_in_hospital</th>\n",
       "      <th>payer_code</th>\n",
       "      <th>...</th>\n",
       "      <th>glyburide.metformin</th>\n",
       "      <th>glipizide.metformin</th>\n",
       "      <th>glimepiride.pioglitazone</th>\n",
       "      <th>metformin.rosiglitazone</th>\n",
       "      <th>metformin.pioglitazone</th>\n",
       "      <th>change</th>\n",
       "      <th>diabetesMed</th>\n",
       "      <th>diag_1_desc</th>\n",
       "      <th>diag_2_desc</th>\n",
       "      <th>diag_3_desc</th>\n",
       "    </tr>\n",
       "  </thead>\n",
       "  <tbody>\n",
       "    <tr>\n",
       "      <th>0</th>\n",
       "      <td>No</td>\n",
       "      <td>Caucasian</td>\n",
       "      <td>Female</td>\n",
       "      <td>[50-60]</td>\n",
       "      <td>?</td>\n",
       "      <td>Elective</td>\n",
       "      <td>Discharged to home</td>\n",
       "      <td>Physician Referral</td>\n",
       "      <td>1</td>\n",
       "      <td>CP</td>\n",
       "      <td>...</td>\n",
       "      <td>No</td>\n",
       "      <td>No</td>\n",
       "      <td>No</td>\n",
       "      <td>No</td>\n",
       "      <td>No</td>\n",
       "      <td>No</td>\n",
       "      <td>No</td>\n",
       "      <td>Spinal stenosis in cervical region</td>\n",
       "      <td>Spinal stenosis in cervical region</td>\n",
       "      <td>Effusion of joint, site unspecified</td>\n",
       "    </tr>\n",
       "    <tr>\n",
       "      <th>1</th>\n",
       "      <td>No</td>\n",
       "      <td>Caucasian</td>\n",
       "      <td>Female</td>\n",
       "      <td>[20-30)</td>\n",
       "      <td>[50-75)</td>\n",
       "      <td>Urgent</td>\n",
       "      <td>Discharged to home</td>\n",
       "      <td>Physician Referral</td>\n",
       "      <td>2</td>\n",
       "      <td>UN</td>\n",
       "      <td>...</td>\n",
       "      <td>No</td>\n",
       "      <td>No</td>\n",
       "      <td>No</td>\n",
       "      <td>No</td>\n",
       "      <td>No</td>\n",
       "      <td>No</td>\n",
       "      <td>No</td>\n",
       "      <td>First-degree perineal laceration, unspecified ...</td>\n",
       "      <td>Diabetes mellitus of mother, complicating preg...</td>\n",
       "      <td>Sideroblastic anemia</td>\n",
       "    </tr>\n",
       "    <tr>\n",
       "      <th>2</th>\n",
       "      <td>Yes</td>\n",
       "      <td>Caucasian</td>\n",
       "      <td>Male</td>\n",
       "      <td>[80-90)</td>\n",
       "      <td>?</td>\n",
       "      <td>Not Available</td>\n",
       "      <td>Discharged/transferred to home with home healt...</td>\n",
       "      <td>NaN</td>\n",
       "      <td>7</td>\n",
       "      <td>MC</td>\n",
       "      <td>...</td>\n",
       "      <td>No</td>\n",
       "      <td>No</td>\n",
       "      <td>No</td>\n",
       "      <td>No</td>\n",
       "      <td>No</td>\n",
       "      <td>No</td>\n",
       "      <td>Yes</td>\n",
       "      <td>Pneumococcal pneumonia [Streptococcus pneumoni...</td>\n",
       "      <td>Congestive heart failure, unspecified</td>\n",
       "      <td>Hyperosmolality and/or hypernatremia</td>\n",
       "    </tr>\n",
       "    <tr>\n",
       "      <th>3</th>\n",
       "      <td>No</td>\n",
       "      <td>AfricanAmerican</td>\n",
       "      <td>Female</td>\n",
       "      <td>[50-60)</td>\n",
       "      <td>?</td>\n",
       "      <td>Emergency</td>\n",
       "      <td>Discharged to home</td>\n",
       "      <td>Transfer from another health care facility</td>\n",
       "      <td>4</td>\n",
       "      <td>UN</td>\n",
       "      <td>...</td>\n",
       "      <td>No</td>\n",
       "      <td>No</td>\n",
       "      <td>No</td>\n",
       "      <td>No</td>\n",
       "      <td>No</td>\n",
       "      <td>No</td>\n",
       "      <td>Yes</td>\n",
       "      <td>Cellulitis and abscess of face</td>\n",
       "      <td>Streptococcus infection in conditions classifi...</td>\n",
       "      <td>Diabetes mellitus without mention of complicat...</td>\n",
       "    </tr>\n",
       "    <tr>\n",
       "      <th>4</th>\n",
       "      <td>No</td>\n",
       "      <td>AfricanAmerican</td>\n",
       "      <td>Female</td>\n",
       "      <td>[50-60)</td>\n",
       "      <td>?</td>\n",
       "      <td>Emergency</td>\n",
       "      <td>Discharged to home</td>\n",
       "      <td>Emergency Room</td>\n",
       "      <td>5</td>\n",
       "      <td>?</td>\n",
       "      <td>...</td>\n",
       "      <td>No</td>\n",
       "      <td>No</td>\n",
       "      <td>No</td>\n",
       "      <td>No</td>\n",
       "      <td>No</td>\n",
       "      <td>Ch</td>\n",
       "      <td>Yes</td>\n",
       "      <td>Bipolar I disorder, single manic episode, unsp...</td>\n",
       "      <td>Diabetes mellitus without mention of complicat...</td>\n",
       "      <td>Depressive type psychosis</td>\n",
       "    </tr>\n",
       "  </tbody>\n",
       "</table>\n",
       "<p>5 rows × 51 columns</p>\n",
       "</div>"
      ],
      "text/plain": [
       "  readmitted             race  gender      age   weight admission_type_id  \\\n",
       "0         No        Caucasian  Female  [50-60]        ?          Elective   \n",
       "1         No        Caucasian  Female  [20-30)  [50-75)            Urgent   \n",
       "2        Yes        Caucasian    Male  [80-90)        ?     Not Available   \n",
       "3         No  AfricanAmerican  Female  [50-60)        ?         Emergency   \n",
       "4         No  AfricanAmerican  Female  [50-60)        ?         Emergency   \n",
       "\n",
       "                            discharge_disposition_id  \\\n",
       "0                                 Discharged to home   \n",
       "1                                 Discharged to home   \n",
       "2  Discharged/transferred to home with home healt...   \n",
       "3                                 Discharged to home   \n",
       "4                                 Discharged to home   \n",
       "\n",
       "                          admission_source_id  time_in_hospital payer_code  \\\n",
       "0                          Physician Referral                 1         CP   \n",
       "1                          Physician Referral                 2         UN   \n",
       "2                                         NaN                 7         MC   \n",
       "3  Transfer from another health care facility                 4         UN   \n",
       "4                              Emergency Room                 5          ?   \n",
       "\n",
       "                         ...                         glyburide.metformin  \\\n",
       "0                        ...                                          No   \n",
       "1                        ...                                          No   \n",
       "2                        ...                                          No   \n",
       "3                        ...                                          No   \n",
       "4                        ...                                          No   \n",
       "\n",
       "   glipizide.metformin  glimepiride.pioglitazone  metformin.rosiglitazone  \\\n",
       "0                   No                        No                       No   \n",
       "1                   No                        No                       No   \n",
       "2                   No                        No                       No   \n",
       "3                   No                        No                       No   \n",
       "4                   No                        No                       No   \n",
       "\n",
       "   metformin.pioglitazone  change  diabetesMed  \\\n",
       "0                      No      No           No   \n",
       "1                      No      No           No   \n",
       "2                      No      No          Yes   \n",
       "3                      No      No          Yes   \n",
       "4                      No      Ch          Yes   \n",
       "\n",
       "                                         diag_1_desc  \\\n",
       "0                 Spinal stenosis in cervical region   \n",
       "1  First-degree perineal laceration, unspecified ...   \n",
       "2  Pneumococcal pneumonia [Streptococcus pneumoni...   \n",
       "3                     Cellulitis and abscess of face   \n",
       "4  Bipolar I disorder, single manic episode, unsp...   \n",
       "\n",
       "                                         diag_2_desc  \\\n",
       "0                 Spinal stenosis in cervical region   \n",
       "1  Diabetes mellitus of mother, complicating preg...   \n",
       "2              Congestive heart failure, unspecified   \n",
       "3  Streptococcus infection in conditions classifi...   \n",
       "4  Diabetes mellitus without mention of complicat...   \n",
       "\n",
       "                                         diag_3_desc  \n",
       "0                Effusion of joint, site unspecified  \n",
       "1                               Sideroblastic anemia  \n",
       "2               Hyperosmolality and/or hypernatremia  \n",
       "3  Diabetes mellitus without mention of complicat...  \n",
       "4                          Depressive type psychosis  \n",
       "\n",
       "[5 rows x 51 columns]"
      ]
     },
     "execution_count": 4,
     "metadata": {},
     "output_type": "execute_result"
    }
   ],
   "source": [
    "diabetes_data.head(5)"
   ]
  },
  {
   "cell_type": "code",
   "execution_count": 5,
   "metadata": {},
   "outputs": [
    {
     "data": {
      "text/html": [
       "<div>\n",
       "<style scoped>\n",
       "    .dataframe tbody tr th:only-of-type {\n",
       "        vertical-align: middle;\n",
       "    }\n",
       "\n",
       "    .dataframe tbody tr th {\n",
       "        vertical-align: top;\n",
       "    }\n",
       "\n",
       "    .dataframe thead th {\n",
       "        text-align: right;\n",
       "    }\n",
       "</style>\n",
       "<table border=\"1\" class=\"dataframe\">\n",
       "  <thead>\n",
       "    <tr style=\"text-align: right;\">\n",
       "      <th></th>\n",
       "      <th>readmitted</th>\n",
       "      <th>race</th>\n",
       "      <th>gender</th>\n",
       "      <th>age</th>\n",
       "      <th>weight</th>\n",
       "      <th>admission_type_id</th>\n",
       "      <th>discharge_disposition_id</th>\n",
       "      <th>admission_source_id</th>\n",
       "      <th>payer_code</th>\n",
       "      <th>medical_specialty</th>\n",
       "      <th>...</th>\n",
       "      <th>glyburide.metformin</th>\n",
       "      <th>glipizide.metformin</th>\n",
       "      <th>glimepiride.pioglitazone</th>\n",
       "      <th>metformin.rosiglitazone</th>\n",
       "      <th>metformin.pioglitazone</th>\n",
       "      <th>change</th>\n",
       "      <th>diabetesMed</th>\n",
       "      <th>diag_1_desc</th>\n",
       "      <th>diag_2_desc</th>\n",
       "      <th>diag_3_desc</th>\n",
       "    </tr>\n",
       "  </thead>\n",
       "  <tbody>\n",
       "    <tr>\n",
       "      <th>count</th>\n",
       "      <td>10000</td>\n",
       "      <td>10000</td>\n",
       "      <td>10000</td>\n",
       "      <td>10000</td>\n",
       "      <td>10000</td>\n",
       "      <td>9279</td>\n",
       "      <td>9531</td>\n",
       "      <td>9064</td>\n",
       "      <td>10000</td>\n",
       "      <td>10000</td>\n",
       "      <td>...</td>\n",
       "      <td>10000</td>\n",
       "      <td>10000</td>\n",
       "      <td>10000</td>\n",
       "      <td>10000</td>\n",
       "      <td>10000</td>\n",
       "      <td>10000</td>\n",
       "      <td>10000</td>\n",
       "      <td>9998</td>\n",
       "      <td>9941</td>\n",
       "      <td>9792</td>\n",
       "    </tr>\n",
       "    <tr>\n",
       "      <th>unique</th>\n",
       "      <td>2</td>\n",
       "      <td>6</td>\n",
       "      <td>2</td>\n",
       "      <td>11</td>\n",
       "      <td>8</td>\n",
       "      <td>6</td>\n",
       "      <td>21</td>\n",
       "      <td>10</td>\n",
       "      <td>16</td>\n",
       "      <td>53</td>\n",
       "      <td>...</td>\n",
       "      <td>4</td>\n",
       "      <td>2</td>\n",
       "      <td>1</td>\n",
       "      <td>1</td>\n",
       "      <td>1</td>\n",
       "      <td>2</td>\n",
       "      <td>2</td>\n",
       "      <td>457</td>\n",
       "      <td>429</td>\n",
       "      <td>460</td>\n",
       "    </tr>\n",
       "    <tr>\n",
       "      <th>top</th>\n",
       "      <td>No</td>\n",
       "      <td>Caucasian</td>\n",
       "      <td>Female</td>\n",
       "      <td>[70-80)</td>\n",
       "      <td>?</td>\n",
       "      <td>Emergency</td>\n",
       "      <td>Discharged to home</td>\n",
       "      <td>Emergency Room</td>\n",
       "      <td>?</td>\n",
       "      <td>?</td>\n",
       "      <td>...</td>\n",
       "      <td>No</td>\n",
       "      <td>No</td>\n",
       "      <td>No</td>\n",
       "      <td>No</td>\n",
       "      <td>No</td>\n",
       "      <td>No</td>\n",
       "      <td>Yes</td>\n",
       "      <td>Coronary atherosclerosis of unspecified type o...</td>\n",
       "      <td>Diabetes mellitus without mention of complicat...</td>\n",
       "      <td>Diabetes mellitus without mention of complicat...</td>\n",
       "    </tr>\n",
       "    <tr>\n",
       "      <th>freq</th>\n",
       "      <td>6035</td>\n",
       "      <td>7359</td>\n",
       "      <td>5398</td>\n",
       "      <td>2595</td>\n",
       "      <td>9592</td>\n",
       "      <td>4905</td>\n",
       "      <td>6056</td>\n",
       "      <td>4940</td>\n",
       "      <td>5341</td>\n",
       "      <td>4100</td>\n",
       "      <td>...</td>\n",
       "      <td>9944</td>\n",
       "      <td>9998</td>\n",
       "      <td>10000</td>\n",
       "      <td>10000</td>\n",
       "      <td>10000</td>\n",
       "      <td>5724</td>\n",
       "      <td>7478</td>\n",
       "      <td>735</td>\n",
       "      <td>684</td>\n",
       "      <td>1276</td>\n",
       "    </tr>\n",
       "  </tbody>\n",
       "</table>\n",
       "<p>4 rows × 43 columns</p>\n",
       "</div>"
      ],
      "text/plain": [
       "       readmitted       race  gender      age weight admission_type_id  \\\n",
       "count       10000      10000   10000    10000  10000              9279   \n",
       "unique          2          6       2       11      8                 6   \n",
       "top            No  Caucasian  Female  [70-80)      ?         Emergency   \n",
       "freq         6035       7359    5398     2595   9592              4905   \n",
       "\n",
       "       discharge_disposition_id admission_source_id payer_code  \\\n",
       "count                      9531                9064      10000   \n",
       "unique                       21                  10         16   \n",
       "top          Discharged to home      Emergency Room          ?   \n",
       "freq                       6056                4940       5341   \n",
       "\n",
       "       medical_specialty                        ...                          \\\n",
       "count              10000                        ...                           \n",
       "unique                53                        ...                           \n",
       "top                    ?                        ...                           \n",
       "freq                4100                        ...                           \n",
       "\n",
       "       glyburide.metformin glipizide.metformin glimepiride.pioglitazone  \\\n",
       "count                10000               10000                    10000   \n",
       "unique                   4                   2                        1   \n",
       "top                     No                  No                       No   \n",
       "freq                  9944                9998                    10000   \n",
       "\n",
       "       metformin.rosiglitazone metformin.pioglitazone change diabetesMed  \\\n",
       "count                    10000                  10000  10000       10000   \n",
       "unique                       1                      1      2           2   \n",
       "top                         No                     No     No         Yes   \n",
       "freq                     10000                  10000   5724        7478   \n",
       "\n",
       "                                              diag_1_desc  \\\n",
       "count                                                9998   \n",
       "unique                                                457   \n",
       "top     Coronary atherosclerosis of unspecified type o...   \n",
       "freq                                                  735   \n",
       "\n",
       "                                              diag_2_desc  \\\n",
       "count                                                9941   \n",
       "unique                                                429   \n",
       "top     Diabetes mellitus without mention of complicat...   \n",
       "freq                                                  684   \n",
       "\n",
       "                                              diag_3_desc  \n",
       "count                                                9792  \n",
       "unique                                                460  \n",
       "top     Diabetes mellitus without mention of complicat...  \n",
       "freq                                                 1276  \n",
       "\n",
       "[4 rows x 43 columns]"
      ]
     },
     "execution_count": 5,
     "metadata": {},
     "output_type": "execute_result"
    }
   ],
   "source": [
    "diabetes_data.describe(include=['O'])"
   ]
  },
  {
   "cell_type": "markdown",
   "metadata": {},
   "source": [
    "### Start a DataRobot project!"
   ]
  },
  {
   "cell_type": "code",
   "execution_count": 8,
   "metadata": {},
   "outputs": [
    {
     "name": "stdout",
     "output_type": "stream",
     "text": [
      "5dd16fbe435de51a560954d0 Diabetes Model\n"
     ]
    }
   ],
   "source": [
    "project = dr.Project.start(diabetes_data,                #Pandas dataframe with data. Could also pass the folder path\n",
    "                           project_name='Diabetes Model',#Name of the project\n",
    "                           target='readmitted',          #Target of the project\n",
    "                           metric = 'LogLoss',           #Optimization metric (Default value)\n",
    "                           worker_count = -1,            #Amount of workers to use. -1 means every worker available\n",
    "                           autopilot_on=True)            #Run on autopilot  (Default value)\n",
    "\n",
    "print(project.id, project.project_name)"
   ]
  },
  {
   "cell_type": "markdown",
   "metadata": {},
   "source": [
    "### Interacting with autopilot"
   ]
  },
  {
   "cell_type": "code",
   "execution_count": null,
   "metadata": {},
   "outputs": [],
   "source": [
    "project.pause_autopilot() #Pausing autopilot"
   ]
  },
  {
   "cell_type": "code",
   "execution_count": null,
   "metadata": {},
   "outputs": [],
   "source": [
    "project.unpause_autopilot() #Unpausing autopilot"
   ]
  },
  {
   "cell_type": "code",
   "execution_count": 7,
   "metadata": {
    "collapsed": true
   },
   "outputs": [
    {
     "name": "stdout",
     "output_type": "stream",
     "text": [
      "In progress: 18, queued: 22 (waited: 0s)\n",
      "In progress: 18, queued: 22 (waited: 1s)\n",
      "In progress: 18, queued: 22 (waited: 1s)\n",
      "In progress: 18, queued: 22 (waited: 2s)\n",
      "In progress: 18, queued: 22 (waited: 4s)\n",
      "In progress: 18, queued: 22 (waited: 6s)\n",
      "In progress: 18, queued: 22 (waited: 9s)\n",
      "In progress: 18, queued: 22 (waited: 16s)\n",
      "In progress: 18, queued: 20 (waited: 30s)\n",
      "In progress: 18, queued: 10 (waited: 50s)\n",
      "In progress: 19, queued: 3 (waited: 71s)\n",
      "In progress: 18, queued: 3 (waited: 91s)\n",
      "In progress: 9, queued: 1 (waited: 112s)\n"
     ]
    },
    {
     "ename": "KeyboardInterrupt",
     "evalue": "",
     "output_type": "error",
     "traceback": [
      "\u001b[0;31m---------------------------------------------------------------------------\u001b[0m",
      "\u001b[0;31mKeyboardInterrupt\u001b[0m                         Traceback (most recent call last)",
      "\u001b[0;32m<ipython-input-7-4322c2259630>\u001b[0m in \u001b[0;36m<module>\u001b[0;34m\u001b[0m\n\u001b[0;32m----> 1\u001b[0;31m \u001b[0mproject\u001b[0m\u001b[0;34m.\u001b[0m\u001b[0mwait_for_autopilot\u001b[0m\u001b[0;34m(\u001b[0m\u001b[0;34m)\u001b[0m\u001b[0;34m\u001b[0m\u001b[0;34m\u001b[0m\u001b[0m\n\u001b[0m",
      "\u001b[0;32m~/anaconda3/lib/python3.7/site-packages/datarobot/models/project.py\u001b[0m in \u001b[0;36mwait_for_autopilot\u001b[0;34m(self, check_interval, timeout, verbosity)\u001b[0m\n\u001b[1;32m   2136\u001b[0m             \u001b[0mon\u001b[0m \u001b[0mits\u001b[0m \u001b[0mown\u001b[0m\u001b[0;34m\u001b[0m\u001b[0;34m\u001b[0m\u001b[0m\n\u001b[1;32m   2137\u001b[0m         \"\"\"\n\u001b[0;32m-> 2138\u001b[0;31m         \u001b[0;32mfor\u001b[0m \u001b[0m_\u001b[0m\u001b[0;34m,\u001b[0m \u001b[0mseconds_waited\u001b[0m \u001b[0;32min\u001b[0m \u001b[0mretry\u001b[0m\u001b[0;34m.\u001b[0m\u001b[0mwait\u001b[0m\u001b[0;34m(\u001b[0m\u001b[0mtimeout\u001b[0m\u001b[0;34m,\u001b[0m \u001b[0mmaxdelay\u001b[0m\u001b[0;34m=\u001b[0m\u001b[0mcheck_interval\u001b[0m\u001b[0;34m)\u001b[0m\u001b[0;34m:\u001b[0m\u001b[0;34m\u001b[0m\u001b[0;34m\u001b[0m\u001b[0m\n\u001b[0m\u001b[1;32m   2139\u001b[0m             \u001b[0;32mif\u001b[0m \u001b[0mverbosity\u001b[0m \u001b[0;34m>\u001b[0m \u001b[0mVERBOSITY_LEVEL\u001b[0m\u001b[0;34m.\u001b[0m\u001b[0mSILENT\u001b[0m\u001b[0;34m:\u001b[0m\u001b[0;34m\u001b[0m\u001b[0;34m\u001b[0m\u001b[0m\n\u001b[1;32m   2140\u001b[0m                 \u001b[0mnum_inprogress\u001b[0m\u001b[0;34m,\u001b[0m \u001b[0mnum_queued\u001b[0m \u001b[0;34m=\u001b[0m \u001b[0mself\u001b[0m\u001b[0;34m.\u001b[0m\u001b[0m_get_job_status_counts\u001b[0m\u001b[0;34m(\u001b[0m\u001b[0;34m)\u001b[0m\u001b[0;34m\u001b[0m\u001b[0;34m\u001b[0m\u001b[0m\n",
      "\u001b[0;32m~/anaconda3/lib/python3.7/site-packages/datarobot/utils/retry.py\u001b[0m in \u001b[0;36mwait\u001b[0;34m(timeout, delay, maxdelay)\u001b[0m\n\u001b[1;32m     39\u001b[0m             \u001b[0;32mbreak\u001b[0m\u001b[0;34m\u001b[0m\u001b[0;34m\u001b[0m\u001b[0m\n\u001b[1;32m     40\u001b[0m         \u001b[0mdelay\u001b[0m \u001b[0;34m=\u001b[0m \u001b[0mmin\u001b[0m\u001b[0;34m(\u001b[0m\u001b[0mdelay\u001b[0m \u001b[0;34m*\u001b[0m \u001b[0;36m2\u001b[0m\u001b[0;34m,\u001b[0m \u001b[0mmaxdelay\u001b[0m\u001b[0;34m,\u001b[0m \u001b[0mremaining\u001b[0m\u001b[0;34m)\u001b[0m\u001b[0;34m\u001b[0m\u001b[0;34m\u001b[0m\u001b[0m\n\u001b[0;32m---> 41\u001b[0;31m         \u001b[0mtime\u001b[0m\u001b[0;34m.\u001b[0m\u001b[0msleep\u001b[0m\u001b[0;34m(\u001b[0m\u001b[0mdelay\u001b[0m\u001b[0;34m)\u001b[0m\u001b[0;34m\u001b[0m\u001b[0;34m\u001b[0m\u001b[0m\n\u001b[0m",
      "\u001b[0;31mKeyboardInterrupt\u001b[0m: "
     ]
    }
   ],
   "source": [
    "#Wait till autopilot is complete - Note this will \n",
    "#make notebook unresponsive till autopilot is complete\n",
    "project.wait_for_autopilot()"
   ]
  },
  {
   "cell_type": "markdown",
   "metadata": {},
   "source": [
    "### Where to find the project ID?\n",
    "![title](media/model_id.png)"
   ]
  },
  {
   "cell_type": "markdown",
   "metadata": {},
   "source": [
    "### What if I don't want to use my browser"
   ]
  },
  {
   "cell_type": "code",
   "execution_count": 17,
   "metadata": {},
   "outputs": [
    {
     "name": "stdout",
     "output_type": "stream",
     "text": [
      "[Project(Diabetes Model), Project(Diabetes API)]\n"
     ]
    }
   ],
   "source": [
    "print(dr.Project.list())"
   ]
  },
  {
   "cell_type": "code",
   "execution_count": 18,
   "metadata": {},
   "outputs": [
    {
     "name": "stdout",
     "output_type": "stream",
     "text": [
      "Project(Diabetes Model) 5dd16fbe435de51a560954d0\n",
      "Project(Diabetes API) 5dd16e337a1f0d19f059c0cf\n"
     ]
    }
   ],
   "source": [
    "for p in dr.Project.list():\n",
    "    print(p, p.id)"
   ]
  },
  {
   "cell_type": "markdown",
   "metadata": {},
   "source": [
    "### Interacting with the leaderboard"
   ]
  },
  {
   "cell_type": "code",
   "execution_count": null,
   "metadata": {},
   "outputs": [],
   "source": [
    "project.open_leaderboard_browser()"
   ]
  },
  {
   "cell_type": "code",
   "execution_count": null,
   "metadata": {},
   "outputs": [],
   "source": [
    "#  Set worker count higher. This will fail if you don't have 20 workers.\n",
    "project.set_worker_count(20)"
   ]
  },
  {
   "cell_type": "code",
   "execution_count": null,
   "metadata": {},
   "outputs": [],
   "source": [
    "#  More jobs will go in the queue in each stage of autopilot.\n",
    "#  This gets the currently inprogress and queued jobs\n",
    "project.get_model_jobs()"
   ]
  },
  {
   "cell_type": "markdown",
   "metadata": {},
   "source": [
    "### Pick another project"
   ]
  },
  {
   "cell_type": "code",
   "execution_count": null,
   "metadata": {},
   "outputs": [],
   "source": [
    "project = dr.Project.get('5dd16fbe435de51a560954d0') # I choose a project that has already finished autopilot"
   ]
  },
  {
   "cell_type": "markdown",
   "metadata": {},
   "source": [
    "### Take a look at finished models"
   ]
  },
  {
   "cell_type": "code",
   "execution_count": null,
   "metadata": {},
   "outputs": [],
   "source": [
    "print(project.get_models())"
   ]
  },
  {
   "cell_type": "code",
   "execution_count": null,
   "metadata": {},
   "outputs": [],
   "source": [
    "#Pick the best non-blender model\n",
    "best_model = project.get_models()[2]\n",
    "\n",
    "print(best_model)\n",
    "print(best_model.metrics['AUC'])\n",
    "print(best_model.metrics['Gini Norm'])"
   ]
  },
  {
   "cell_type": "code",
   "execution_count": null,
   "metadata": {},
   "outputs": [],
   "source": [
    "#Visualize the ROC curve\n",
    "roc = best_model.get_roc_curve('crossValidation')\n",
    "roc_df = pd.DataFrame(roc.roc_points)"
   ]
  },
  {
   "cell_type": "markdown",
   "metadata": {},
   "source": [
    "### Creating a custom feature list"
   ]
  },
  {
   "cell_type": "code",
   "execution_count": 28,
   "metadata": {},
   "outputs": [
    {
     "name": "stdout",
     "output_type": "stream",
     "text": [
      "How many features are informative?\n",
      "40\n"
     ]
    },
    {
     "data": {
      "text/plain": [
       "['readmitted',\n",
       " 'race',\n",
       " 'gender',\n",
       " 'age',\n",
       " 'weight',\n",
       " 'admission_type_id',\n",
       " 'discharge_disposition_id',\n",
       " 'admission_source_id',\n",
       " 'time_in_hospital',\n",
       " 'payer_code',\n",
       " 'medical_specialty',\n",
       " 'num_lab_procedures',\n",
       " 'num_procedures',\n",
       " 'num_medications',\n",
       " 'number_outpatient',\n",
       " 'number_emergency',\n",
       " 'number_inpatient',\n",
       " 'diag_1',\n",
       " 'diag_2',\n",
       " 'diag_3',\n",
       " 'number_diagnoses',\n",
       " 'max_glu_serum',\n",
       " 'A1Cresult',\n",
       " 'metformin',\n",
       " 'repaglinide',\n",
       " 'nateglinide',\n",
       " 'chlorpropamide',\n",
       " 'glimepiride',\n",
       " 'glipizide',\n",
       " 'glyburide',\n",
       " 'pioglitazone',\n",
       " 'rosiglitazone',\n",
       " 'acarbose',\n",
       " 'insulin',\n",
       " 'glyburide_metformin',\n",
       " 'change',\n",
       " 'diabetesMed',\n",
       " 'diag_1_desc',\n",
       " 'diag_2_desc',\n",
       " 'diag_3_desc']"
      ]
     },
     "execution_count": 28,
     "metadata": {},
     "output_type": "execute_result"
    }
   ],
   "source": [
    "inform_features = feature_lists[1]\n",
    "\n",
    "print('How many features are informative?')\n",
    "print(len(inform_features.features))\n",
    "\n",
    "# What are those features?\n",
    "inform_features.features\n",
    "\n",
    "#Create a new feature list\n",
    "without_weight = list(set(inform_features.features) - {'weight'})\n",
    "without_weight_fl = project.create_featurelist('without_weight',\n",
    "                                              without_weight)"
   ]
  },
  {
   "cell_type": "markdown",
   "metadata": {},
   "source": [
    "### Retraining a model on the custom feature list"
   ]
  },
  {
   "cell_type": "code",
   "execution_count": 35,
   "metadata": {
    "scrolled": false
   },
   "outputs": [
    {
     "ename": "ClientError",
     "evalue": "422 client error: {'message': 'The endpoint does not support retraining blender on a different featurelist'}",
     "output_type": "error",
     "traceback": [
      "\u001b[0;31m---------------------------------------------------------------------------\u001b[0m",
      "\u001b[0;31mClientError\u001b[0m                               Traceback (most recent call last)",
      "\u001b[0;32m<ipython-input-35-f8ad079bb529>\u001b[0m in \u001b[0;36m<module>\u001b[0;34m\u001b[0m\n\u001b[0;32m----> 1\u001b[0;31m \u001b[0mbest_single_model\u001b[0m\u001b[0;34m.\u001b[0m\u001b[0mtrain\u001b[0m\u001b[0;34m(\u001b[0m\u001b[0mfeaturelist_id\u001b[0m\u001b[0;34m=\u001b[0m\u001b[0mwithout_weight_fl\u001b[0m\u001b[0;34m.\u001b[0m\u001b[0mid\u001b[0m\u001b[0;34m)\u001b[0m\u001b[0;34m\u001b[0m\u001b[0;34m\u001b[0m\u001b[0m\n\u001b[0m",
      "\u001b[0;32m~/anaconda3/lib/python3.7/site-packages/datarobot/models/model.py\u001b[0m in \u001b[0;36mtrain\u001b[0;34m(self, sample_pct, featurelist_id, scoring_type, training_row_count, monotonic_increasing_featurelist_id, monotonic_decreasing_featurelist_id)\u001b[0m\n\u001b[1;32m    473\u001b[0m         response = self._client.post(url, data=payload, keep_attrs=[\n\u001b[1;32m    474\u001b[0m             \u001b[0;34m'monotonic_increasing_featurelist_id'\u001b[0m\u001b[0;34m,\u001b[0m\u001b[0;34m\u001b[0m\u001b[0;34m\u001b[0m\u001b[0m\n\u001b[0;32m--> 475\u001b[0;31m             \u001b[0;34m'monotonic_decreasing_featurelist_id'\u001b[0m\u001b[0;34m\u001b[0m\u001b[0;34m\u001b[0m\u001b[0m\n\u001b[0m\u001b[1;32m    476\u001b[0m         ])\n\u001b[1;32m    477\u001b[0m \u001b[0;34m\u001b[0m\u001b[0m\n",
      "\u001b[0;32m~/anaconda3/lib/python3.7/site-packages/datarobot/rest.py\u001b[0m in \u001b[0;36mpost\u001b[0;34m(self, url, data, keep_attrs, **kwargs)\u001b[0m\n\u001b[1;32m     92\u001b[0m         \u001b[0;32mif\u001b[0m \u001b[0mdata\u001b[0m\u001b[0;34m:\u001b[0m\u001b[0;34m\u001b[0m\u001b[0;34m\u001b[0m\u001b[0m\n\u001b[1;32m     93\u001b[0m             \u001b[0mkwargs\u001b[0m\u001b[0;34m[\u001b[0m\u001b[0;34m'json'\u001b[0m\u001b[0;34m]\u001b[0m \u001b[0;34m=\u001b[0m \u001b[0mto_api\u001b[0m\u001b[0;34m(\u001b[0m\u001b[0mdata\u001b[0m\u001b[0;34m,\u001b[0m \u001b[0mkeep_attrs\u001b[0m\u001b[0;34m)\u001b[0m\u001b[0;34m\u001b[0m\u001b[0;34m\u001b[0m\u001b[0m\n\u001b[0;32m---> 94\u001b[0;31m         \u001b[0;32mreturn\u001b[0m \u001b[0mself\u001b[0m\u001b[0;34m.\u001b[0m\u001b[0mrequest\u001b[0m\u001b[0;34m(\u001b[0m\u001b[0;34m'post'\u001b[0m\u001b[0;34m,\u001b[0m \u001b[0murl\u001b[0m\u001b[0;34m,\u001b[0m \u001b[0;34m**\u001b[0m\u001b[0mkwargs\u001b[0m\u001b[0;34m)\u001b[0m\u001b[0;34m\u001b[0m\u001b[0;34m\u001b[0m\u001b[0m\n\u001b[0m\u001b[1;32m     95\u001b[0m \u001b[0;34m\u001b[0m\u001b[0m\n\u001b[1;32m     96\u001b[0m     \u001b[0;32mdef\u001b[0m \u001b[0mpatch\u001b[0m\u001b[0;34m(\u001b[0m\u001b[0mself\u001b[0m\u001b[0;34m,\u001b[0m \u001b[0murl\u001b[0m\u001b[0;34m,\u001b[0m \u001b[0mdata\u001b[0m\u001b[0;34m=\u001b[0m\u001b[0;32mNone\u001b[0m\u001b[0;34m,\u001b[0m \u001b[0mkeep_attrs\u001b[0m\u001b[0;34m=\u001b[0m\u001b[0;32mNone\u001b[0m\u001b[0;34m,\u001b[0m \u001b[0;34m**\u001b[0m\u001b[0mkwargs\u001b[0m\u001b[0;34m)\u001b[0m\u001b[0;34m:\u001b[0m\u001b[0;34m\u001b[0m\u001b[0;34m\u001b[0m\u001b[0m\n",
      "\u001b[0;32m~/anaconda3/lib/python3.7/site-packages/datarobot/rest.py\u001b[0m in \u001b[0;36mrequest\u001b[0;34m(self, method, url, join_endpoint, **kwargs)\u001b[0m\n\u001b[1;32m     83\u001b[0m         \u001b[0mresponse\u001b[0m \u001b[0;34m=\u001b[0m \u001b[0msuper\u001b[0m\u001b[0;34m(\u001b[0m\u001b[0mRESTClientObject\u001b[0m\u001b[0;34m,\u001b[0m \u001b[0mself\u001b[0m\u001b[0;34m)\u001b[0m\u001b[0;34m.\u001b[0m\u001b[0mrequest\u001b[0m\u001b[0;34m(\u001b[0m\u001b[0mmethod\u001b[0m\u001b[0;34m,\u001b[0m \u001b[0murl\u001b[0m\u001b[0;34m,\u001b[0m \u001b[0;34m**\u001b[0m\u001b[0mkwargs\u001b[0m\u001b[0;34m)\u001b[0m\u001b[0;34m\u001b[0m\u001b[0;34m\u001b[0m\u001b[0m\n\u001b[1;32m     84\u001b[0m         \u001b[0;32mif\u001b[0m \u001b[0;32mnot\u001b[0m \u001b[0mresponse\u001b[0m\u001b[0;34m:\u001b[0m\u001b[0;34m\u001b[0m\u001b[0;34m\u001b[0m\u001b[0m\n\u001b[0;32m---> 85\u001b[0;31m             \u001b[0mhandle_http_error\u001b[0m\u001b[0;34m(\u001b[0m\u001b[0mresponse\u001b[0m\u001b[0;34m,\u001b[0m \u001b[0;34m**\u001b[0m\u001b[0mkwargs\u001b[0m\u001b[0;34m)\u001b[0m\u001b[0;34m\u001b[0m\u001b[0;34m\u001b[0m\u001b[0m\n\u001b[0m\u001b[1;32m     86\u001b[0m         \u001b[0;32mreturn\u001b[0m \u001b[0mresponse\u001b[0m\u001b[0;34m\u001b[0m\u001b[0;34m\u001b[0m\u001b[0m\n\u001b[1;32m     87\u001b[0m \u001b[0;34m\u001b[0m\u001b[0m\n",
      "\u001b[0;32m~/anaconda3/lib/python3.7/site-packages/datarobot/rest.py\u001b[0m in \u001b[0;36mhandle_http_error\u001b[0;34m(response, **kwargs)\u001b[0m\n\u001b[1;32m    213\u001b[0m         \u001b[0mtemplate\u001b[0m \u001b[0;34m=\u001b[0m \u001b[0;34m'{} client error: {}'\u001b[0m\u001b[0;34m\u001b[0m\u001b[0;34m\u001b[0m\u001b[0m\n\u001b[1;32m    214\u001b[0m         \u001b[0mexc_message\u001b[0m \u001b[0;34m=\u001b[0m \u001b[0mtemplate\u001b[0m\u001b[0;34m.\u001b[0m\u001b[0mformat\u001b[0m\u001b[0;34m(\u001b[0m\u001b[0mresponse\u001b[0m\u001b[0;34m.\u001b[0m\u001b[0mstatus_code\u001b[0m\u001b[0;34m,\u001b[0m \u001b[0mmessage\u001b[0m\u001b[0;34m)\u001b[0m\u001b[0;34m\u001b[0m\u001b[0;34m\u001b[0m\u001b[0m\n\u001b[0;32m--> 215\u001b[0;31m         \u001b[0;32mraise\u001b[0m \u001b[0mexception_type\u001b[0m\u001b[0;34m(\u001b[0m\u001b[0mexc_message\u001b[0m\u001b[0;34m,\u001b[0m \u001b[0mresponse\u001b[0m\u001b[0;34m.\u001b[0m\u001b[0mstatus_code\u001b[0m\u001b[0;34m,\u001b[0m \u001b[0mjson\u001b[0m\u001b[0;34m=\u001b[0m\u001b[0mparsed_json\u001b[0m\u001b[0;34m)\u001b[0m\u001b[0;34m\u001b[0m\u001b[0;34m\u001b[0m\u001b[0m\n\u001b[0m\u001b[1;32m    216\u001b[0m     \u001b[0;32melse\u001b[0m\u001b[0;34m:\u001b[0m\u001b[0;34m\u001b[0m\u001b[0;34m\u001b[0m\u001b[0m\n\u001b[1;32m    217\u001b[0m         \u001b[0mtemplate\u001b[0m \u001b[0;34m=\u001b[0m \u001b[0;34m'{} server error: {}'\u001b[0m\u001b[0;34m\u001b[0m\u001b[0;34m\u001b[0m\u001b[0m\n",
      "\u001b[0;31mClientError\u001b[0m: 422 client error: {'message': 'The endpoint does not support retraining blender on a different featurelist'}"
     ]
    }
   ],
   "source": [
    "#Retrain the best model using the custom feature list\n",
    "best_model.train(featurelist_id=without_weight_fl.id)"
   ]
  },
  {
   "cell_type": "markdown",
   "metadata": {},
   "source": [
    "### Which one is the best?"
   ]
  },
  {
   "cell_type": "code",
   "execution_count": 36,
   "metadata": {},
   "outputs": [
    {
     "data": {
      "text/plain": [
       "'ff0fd70aff222fc804a803438f7f2ed7'"
      ]
     },
     "execution_count": 36,
     "metadata": {},
     "output_type": "execute_result"
    }
   ],
   "source": [
    "best_model.blueprint_id"
   ]
  },
  {
   "cell_type": "code",
   "execution_count": 21,
   "metadata": {},
   "outputs": [
    {
     "ename": "NameError",
     "evalue": "name 'best_single_model' is not defined",
     "output_type": "error",
     "traceback": [
      "\u001b[0;31m---------------------------------------------------------------------------\u001b[0m",
      "\u001b[0;31mNameError\u001b[0m                                 Traceback (most recent call last)",
      "\u001b[0;32m<ipython-input-21-f95abb01a888>\u001b[0m in \u001b[0;36m<module>\u001b[0;34m\u001b[0m\n\u001b[0;32m----> 1\u001b[0;31m models_GLM_rerun = [model for model in project.get_models() \n\u001b[0m\u001b[1;32m      2\u001b[0m                     if model.blueprint_id == best_single_model.blueprint_id and model.sample_pct > 63]\n",
      "\u001b[0;32m<ipython-input-21-f95abb01a888>\u001b[0m in \u001b[0;36m<listcomp>\u001b[0;34m(.0)\u001b[0m\n\u001b[1;32m      1\u001b[0m models_GLM_rerun = [model for model in project.get_models() \n\u001b[0;32m----> 2\u001b[0;31m                     if model.blueprint_id == best_single_model.blueprint_id and model.sample_pct > 63]\n\u001b[0m",
      "\u001b[0;31mNameError\u001b[0m: name 'best_single_model' is not defined"
     ]
    }
   ],
   "source": [
    "models_rerun = [model for model in project.get_models() \n",
    "                    if model.blueprint_id == best_model.blueprint_id and model.sample_pct > 63]"
   ]
  },
  {
   "cell_type": "code",
   "execution_count": null,
   "metadata": {},
   "outputs": [],
   "source": [
    "models_rerun"
   ]
  },
  {
   "cell_type": "code",
   "execution_count": null,
   "metadata": {},
   "outputs": [],
   "source": [
    "accuracies = [[model.featurelist.name, model.metrics['AUC']['validation']] for model in models_rerun]\n",
    "accuracies"
   ]
  },
  {
   "cell_type": "markdown",
   "metadata": {},
   "source": [
    "### Train on 100% of Data"
   ]
  },
  {
   "cell_type": "code",
   "execution_count": null,
   "metadata": {},
   "outputs": [],
   "source": [
    "project.unlock_holdout()\n",
    "id_for_best_retrained_model = best_model.train(sample_pct=100)"
   ]
  },
  {
   "cell_type": "markdown",
   "metadata": {},
   "source": [
    "## Predictions\n",
    "There are 2 ways to generate predictions from any model using the DataRobot API:\n",
    "#### Modelling API\n",
    "You can use the modelling API if you use Python or R. There are multiple functions and objects to interact with it the same way as above.\n",
    "#### Prediction API\n",
    "Any project can be called with the Prediction API. This is a simple REST API. Click on a model in the UI, then \"Deploy Model\" and \"Activate now\". You'll have access to a Python code snippet to help you interact with it."
   ]
  },
  {
   "cell_type": "markdown",
   "metadata": {},
   "source": [
    "### Using the Modelling API"
   ]
  },
  {
   "cell_type": "code",
   "execution_count": 43,
   "metadata": {},
   "outputs": [],
   "source": [
    "test_df = pd.read_csv('data/Diabetes_test.csv', encoding='ISO-8859-1') #Load testing data\n",
    "test_df.drop('readmitted', inplace=True, axis=1) #Dropping target column\n",
    "\n",
    "prediction_data = project.upload_dataset(test_df)\n",
    "predict_job = best_model.request_predictions(prediction_data.id)\n",
    "result = predict_job.get_result_when_complete()"
   ]
  },
  {
   "cell_type": "code",
   "execution_count": null,
   "metadata": {},
   "outputs": [],
   "source": [
    "result"
   ]
  },
  {
   "cell_type": "markdown",
   "metadata": {},
   "source": [
    "### Using the prediction API"
   ]
  },
  {
   "cell_type": "markdown",
   "metadata": {},
   "source": [
    "![title](media/prediction_api.png)"
   ]
  },
  {
   "cell_type": "markdown",
   "metadata": {
    "collapsed": true
   },
   "source": [
    "See demonstration."
   ]
  },
  {
   "cell_type": "markdown",
   "metadata": {},
   "source": [
    "### Batch scoring script\n",
    "If you're predicting on large amount of batch data, a single API call might not be efficient and you might want to split your data into multiple chunks before generating predictions.\n",
    "\n",
    "DataRobot provides a Python script to help you do it: https://pypi.python.org/pypi/datarobot_batch_scoring\n",
    "\n",
    "Note this is only available in Python 3."
   ]
  },
  {
   "cell_type": "code",
   "execution_count": null,
   "metadata": {},
   "outputs": [],
   "source": []
  }
 ],
 "metadata": {
  "hide_input": false,
  "kernelspec": {
   "display_name": "Python 3",
   "language": "python",
   "name": "python3"
  },
  "language_info": {
   "codemirror_mode": {
    "name": "ipython",
    "version": 3
   },
   "file_extension": ".py",
   "mimetype": "text/x-python",
   "name": "python",
   "nbconvert_exporter": "python",
   "pygments_lexer": "ipython3",
   "version": "3.7.3"
  }
 },
 "nbformat": 4,
 "nbformat_minor": 1
}
